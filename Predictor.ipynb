{
 "cells": [
  {
   "cell_type": "code",
   "execution_count": 9,
   "metadata": {},
   "outputs": [],
   "source": [
    "import numpy as np\n",
    "import pandas as pd\n",
    "from sklearn.metrics import mean_absolute_error\n",
    "from sklearn.model_selection import train_test_split\n",
    "from sklearn.tree import DecisionTreeRegressor\n",
    "from sklearn.ensemble import RandomForestRegressor\n",
    "from sklearn.metrics import mean_absolute_error\n",
    "\n"
   ]
  },
  {
   "cell_type": "code",
   "execution_count": 10,
   "metadata": {},
   "outputs": [],
   "source": [
    "data = pd.read_csv('Dataset.csv')"
   ]
  },
  {
   "cell_type": "code",
   "execution_count": 11,
   "metadata": {},
   "outputs": [
    {
     "name": "stdout",
     "output_type": "stream",
     "text": [
      "  Alloy code     C    Si    Mn      P      S     Ni    Cr    Mo    Cu    V  \\\n",
      "0        MBB  0.12  0.36  0.52  0.009  0.003  0.089  0.97  0.61  0.04  0.0   \n",
      "1        MBB  0.12  0.36  0.52  0.009  0.003  0.089  0.97  0.61  0.04  0.0   \n",
      "2        MBB  0.12  0.36  0.52  0.009  0.003  0.089  0.97  0.61  0.04  0.0   \n",
      "3        MBB  0.12  0.36  0.52  0.009  0.003  0.089  0.97  0.61  0.04  0.0   \n",
      "4        MBB  0.12  0.36  0.52  0.009  0.003  0.089  0.97  0.61  0.04  0.0   \n",
      "\n",
      "      Al       N  Ceq  Nb+Ta  Temp.(C)  0.2% Proof Stress (MPa)  \\\n",
      "0  0.003  0.0066  0.0    0.0        27                      342   \n",
      "1  0.003  0.0066  0.0    0.0       100                      338   \n",
      "2  0.003  0.0066  0.0    0.0       200                      337   \n",
      "3  0.003  0.0066  0.0    0.0       300                      346   \n",
      "4  0.003  0.0066  0.0    0.0       400                      316   \n",
      "\n",
      "   Tensile Strenght Mpa  Elong. %   Reduction in Area (%)  \n",
      "0                   490        30                      71  \n",
      "1                   454        27                      72  \n",
      "2                   465        23                      69  \n",
      "3                   495        21                      70  \n",
      "4                   489        26                      79  \n"
     ]
    }
   ],
   "source": [
    "print(data.head())"
   ]
  },
  {
   "cell_type": "code",
   "execution_count": 12,
   "metadata": {},
   "outputs": [],
   "source": [
    "#from pandas_profiling import ProfileReport\n",
    "#prof = ProfileReport(data)\n",
    "#prof.to_file(output_file='Report.html')"
   ]
  },
  {
   "cell_type": "code",
   "execution_count": 13,
   "metadata": {},
   "outputs": [],
   "source": [
    "# Creating X\n",
    "variables = ['C','Si','Mn','P','S','Ni','Cr','Mo','Cu','V','Al','Temp.(C)']\n",
    "X=data[variables]\n",
    "#X.head()\n",
    "\n",
    "# Creating Y\n",
    "Y=data[['0.2% Proof Stress (MPa)']]\n",
    "#Y.head()"
   ]
  },
  {
   "cell_type": "code",
   "execution_count": 14,
   "metadata": {},
   "outputs": [],
   "source": [
    "train_X, val_X, train_y, val_y = train_test_split(X, Y,random_state = 0)"
   ]
  },
  {
   "cell_type": "code",
   "execution_count": 21,
   "metadata": {},
   "outputs": [
    {
     "name": "stderr",
     "output_type": "stream",
     "text": [
      "c:\\Python\\Lib\\site-packages\\sklearn\\base.py:1151: DataConversionWarning: A column-vector y was passed when a 1d array was expected. Please change the shape of y to (n_samples,), for example using ravel().\n",
      "  return fit_method(estimator, *args, **kwargs)\n"
     ]
    },
    {
     "name": "stdout",
     "output_type": "stream",
     "text": [
      "17.242052401746726\n"
     ]
    }
   ],
   "source": [
    "forest_model = RandomForestRegressor(random_state=2)\n",
    "forest_model.fit(train_X, train_y)\n",
    "melb_preds = forest_model.predict(val_X)\n",
    "print(mean_absolute_error(val_y, melb_preds))"
   ]
  },
  {
   "cell_type": "code",
   "execution_count": 22,
   "metadata": {},
   "outputs": [
    {
     "name": "stdout",
     "output_type": "stream",
     "text": [
      "r2 score for a model which predicts mean value always is 0.9365344659347563\n"
     ]
    }
   ],
   "source": [
    "from sklearn.metrics import r2_score\n",
    "\n",
    "r2 = r2_score(val_y, melb_preds)  # y i actual , F - pridicted\n",
    "print('r2 score for a model which predicts mean value always is', r2)"
   ]
  },
  {
   "cell_type": "code",
   "execution_count": 25,
   "metadata": {},
   "outputs": [
    {
     "name": "stderr",
     "output_type": "stream",
     "text": [
      "c:\\Python\\Lib\\site-packages\\sklearn\\base.py:1151: DataConversionWarning: A column-vector y was passed when a 1d array was expected. Please change the shape of y to (n_samples,), for example using ravel().\n",
      "  return fit_method(estimator, *args, **kwargs)\n"
     ]
    },
    {
     "name": "stdout",
     "output_type": "stream",
     "text": [
      "R2 score 0.9365344659347563\n",
      "MAE 17.242052401746726\n"
     ]
    }
   ],
   "source": [
    "from sklearn.pipeline import Pipeline\n",
    "\n",
    "step1 = forest_model = RandomForestRegressor(random_state=2)\n",
    "\n",
    "pipe = Pipeline([\n",
    "    ('step1',step1)\n",
    "   \n",
    "])\n",
    "\n",
    "pipe.fit(train_X,train_y)\n",
    "\n",
    "pred_y = pipe.predict(val_X)\n",
    "\n",
    "print('R2 score',r2_score(val_y,pred_y))\n",
    "print('MAE',mean_absolute_error(val_y,pred_y))"
   ]
  },
  {
   "cell_type": "code",
   "execution_count": 26,
   "metadata": {},
   "outputs": [],
   "source": [
    "import pickle\n",
    "\n",
    "pickle.dump(data,open('df.pkl','wb'))\n",
    "pickle.dump(pipe,open('pipe.pkl','wb'))"
   ]
  },
  {
   "cell_type": "code",
   "execution_count": null,
   "metadata": {},
   "outputs": [],
   "source": []
  }
 ],
 "metadata": {
  "kernelspec": {
   "display_name": "Python 3 (ipykernel)",
   "language": "python",
   "name": "python3"
  },
  "language_info": {
   "codemirror_mode": {
    "name": "ipython",
    "version": 3
   },
   "file_extension": ".py",
   "mimetype": "text/x-python",
   "name": "python",
   "nbconvert_exporter": "python",
   "pygments_lexer": "ipython3",
   "version": "3.11.0"
  }
 },
 "nbformat": 4,
 "nbformat_minor": 2
}
